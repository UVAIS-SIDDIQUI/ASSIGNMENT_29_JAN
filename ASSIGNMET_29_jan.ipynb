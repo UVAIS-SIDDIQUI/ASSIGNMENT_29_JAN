{
 "cells": [
  {
   "cell_type": "code",
   "execution_count": 1,
   "id": "cb366999-5574-4288-892d-3ed71cdb6b34",
   "metadata": {},
   "outputs": [],
   "source": [
    "## WHO DEVELOPED PYTHONE PROGRAMING LANGUAAGE?"
   ]
  },
  {
   "cell_type": "markdown",
   "id": "5957c5e4-40ac-46bd-b105-1dfe626347e4",
   "metadata": {},
   "source": [
    " ANS=Python was created by Guido van Rossum, and first released on February 20, 1991. While you may know the python \n",
    "    as a large snake, the name of the Python programming language comes from an old BBC television comedy sketch series called Monty     Python’s Flying Circus."
   ]
  },
  {
   "cell_type": "code",
   "execution_count": 4,
   "id": "d459c51d-de44-41cb-b7d5-bb47b1191c0b",
   "metadata": {},
   "outputs": [],
   "source": [
    "# WHICH TYPE OF PROGRAMMING DOES PYTHONE SUPPORT ?"
   ]
  },
  {
   "cell_type": "markdown",
   "id": "d88a5ed6-89ae-4e95-8072-b0485d293332",
   "metadata": {},
   "source": [
    "ANS =Python is a multi-paradigm programming language. Object-oriented programming and structured programming are fully supported, and many of their features support functional programming\n",
    "and aspect-oriented programming (including metaprogramming and metaobjects)."
   ]
  },
  {
   "cell_type": "code",
   "execution_count": 5,
   "id": "c47442e1-088c-4e9d-bb78-99d2f179c718",
   "metadata": {},
   "outputs": [],
   "source": [
    "# IS PYTHONE CASE SENSITIVE WHEN DEALILNG WITH IDENTIFIER ? "
   ]
  },
  {
   "cell_type": "markdown",
   "id": "50e7cbbe-1143-417e-960b-ccf4a44e508f",
   "metadata": {},
   "source": [
    " ANS = Yes  As you might be knowing that Python is a case-sensitive programming language. So, Python is case sensitive when dealing with Identifiers. So, if you wish to learn Python, enroll in a good quality Python course from Intellipaat, which offers you the best instructor-led training and guided projects to help you become practically skilled. Also, check out our YouTube video \n",
    "on How to Learn Python."
   ]
  },
  {
   "cell_type": "code",
   "execution_count": 6,
   "id": "f8cec5a0-8117-4272-ada6-888c16e48b9f",
   "metadata": {},
   "outputs": [],
   "source": [
    "# WHAT IS THE CORRECT EXTENSION OF THE PYTHONE FILE ?"
   ]
  },
  {
   "cell_type": "markdown",
   "id": "d804949a-f372-4d70-8848-5b7006ce1c6a",
   "metadata": {},
   "source": [
    "ANS = Python is a widely used programming or coding language used for different purposes.\n",
    "The CORRECT extensions for Python files are - .py, .pyi, .pyc, .pyd, .pyo, .pyw, and .pyz."
   ]
  },
  {
   "cell_type": "code",
   "execution_count": 7,
   "id": "13db34fc-2da1-445c-82ca-f63edc699415",
   "metadata": {},
   "outputs": [],
   "source": [
    "# IS PYTHONE CODE COMPILED OR INTERPRETED ?"
   ]
  },
  {
   "cell_type": "markdown",
   "id": "39f4ca6f-056f-461c-91a5-f6b585869bbb",
   "metadata": {},
   "source": [
    "ANS = Python is an interpreted language"
   ]
  },
  {
   "cell_type": "code",
   "execution_count": 8,
   "id": "3b713c31-244d-42d7-95fb-e279bd976850",
   "metadata": {},
   "outputs": [],
   "source": [
    "# NAME A FEW BLOCKS OF CODE USED TO DEFINE IN PYTHONE LANGUAGE ?"
   ]
  },
  {
   "cell_type": "markdown",
   "id": "2dfeba92-3ead-4030-b723-ef43867417f4",
   "metadata": {},
   "source": [
    "ANS = A Python program is constructed from code blocks. A block is a piece of Python program text that is executed as a unit. The following are blocks: a module, a function body, and a class definition. Each command typed interactively is a block. A script file (a file given as standard input to the interpreter or specified as a command line argument to the interpreter) is a code block.\n",
    "\n",
    "l1 = [\"sudh\" ,\"kumar\", \"krish\", \"naik\"]\n",
    "for i in  l1:\n",
    "    \n",
    "    print(i)\n"
   ]
  },
  {
   "cell_type": "code",
   "execution_count": 9,
   "id": "6dd396c3-d56a-4b00-b42b-949ec0464a4c",
   "metadata": {},
   "outputs": [
    {
     "name": "stdout",
     "output_type": "stream",
     "text": [
      "sudh\n",
      "kumar\n",
      "krish\n",
      "naik\n"
     ]
    }
   ],
   "source": [
    "l1 = [\"sudh\" ,\"kumar\", \"krish\", \"naik\"]\n",
    "for i in  l1:\n",
    "    \n",
    "    print(i)"
   ]
  },
  {
   "cell_type": "code",
   "execution_count": 11,
   "id": "2242f64e-5e0d-4fa8-a1da-b702cb6ce9bb",
   "metadata": {},
   "outputs": [
    {
     "data": {
      "text/plain": [
       "['sudh', 'kumar', 'krish', 'naik']"
      ]
     },
     "execution_count": 11,
     "metadata": {},
     "output_type": "execute_result"
    }
   ],
   "source": [
    "l1"
   ]
  },
  {
   "cell_type": "code",
   "execution_count": 12,
   "id": "fec8a335-7ad8-4d04-9eed-968af10e76f3",
   "metadata": {},
   "outputs": [
    {
     "name": "stdout",
     "output_type": "stream",
     "text": [
      "sudh\n",
      "kumar\n",
      "krish\n",
      "naik\n",
      "if for loop is able to complete itself then only else will exicute\n"
     ]
    }
   ],
   "source": [
    "for i in l1 :\n",
    "    print(i)\n",
    "else :\n",
    "    print(\"if for loop is able to complete itself then only else will exicute\")"
   ]
  },
  {
   "cell_type": "code",
   "execution_count": 18,
   "id": "2d8232fb-f55d-4400-a7e0-943f7ab3a18f",
   "metadata": {},
   "outputs": [],
   "source": [
    "# STATE A CRACTER USED TO GIVE SINGLE LINE COMMENTS IN PYTHON ?"
   ]
  },
  {
   "cell_type": "markdown",
   "id": "55d789f8-0e75-43d0-87d6-3092dc1b88ad",
   "metadata": {},
   "source": [
    " ANS = Hash character(#) is used to comment the line in the Python program"
   ]
  },
  {
   "cell_type": "code",
   "execution_count": 15,
   "id": "83ee1fb7-5598-4002-887c-090d327aeef9",
   "metadata": {},
   "outputs": [],
   "source": [
    "# MENTION FUNCTIONS WHICH CAN HELP US TO FIND THE VERSION OF PYTHON THAT WE ARE CURRENTLY WORNKING ?"
   ]
  },
  {
   "cell_type": "markdown",
   "id": "a9dbd843-12a5-4a5b-829a-7847a6f53cc8",
   "metadata": {},
   "source": [
    "ANS = The function sys. version can help us to find the version of python that we are currently working on."
   ]
  },
  {
   "cell_type": "code",
   "execution_count": 16,
   "id": "7b32a4a4-6fe6-48b5-821e-8bdad1a56fd8",
   "metadata": {},
   "outputs": [],
   "source": [
    "# PYTHONE SUPPORTS THE CREATION OF ANONYMOUS FUNCTIONS AT RUNNING TIME, USING A CONSTRUCT CALLED ?"
   ]
  },
  {
   "cell_type": "markdown",
   "id": "5958274b-3f2d-44c5-97e7-3ccc1de624ea",
   "metadata": {},
   "source": [
    "ANS = Python supports to make anonymous functions which are not bound to a name(@ runtime).\n",
    "It uses a construct called \"lambda\""
   ]
  },
  {
   "cell_type": "code",
   "execution_count": 17,
   "id": "2b360c91-4dd8-4fc6-afe3-499d2d88aebd",
   "metadata": {},
   "outputs": [],
   "source": [
    "# WHAT DOES PIP STANDS FOR PYTHON ?"
   ]
  },
  {
   "cell_type": "markdown",
   "id": "66243b30-89bd-4999-b079-41d5060fea4c",
   "metadata": {},
   "source": [
    "ANS = preferred installer program"
   ]
  },
  {
   "cell_type": "code",
   "execution_count": 19,
   "id": "bd003d1c-2804-4ba6-b256-66f42a4d9d52",
   "metadata": {},
   "outputs": [],
   "source": [
    "# MENTION A FEW BUILT-IN FUNCTIONS IN PYTHON ?"
   ]
  },
  {
   "cell_type": "markdown",
   "id": "7f719b3f-f163-4d78-9e9b-6e3d857bc923",
   "metadata": {},
   "source": [
    "ANS =The built-in Python Functions which we are going to discuss in this article are as follows:\n",
    "\n",
    "print( ) function\n",
    "type( ) function\n",
    "input( ) function\n",
    "abs( ) function\n",
    "pop( ) function\n",
    "dir( ) function\n",
    "sorted( ) function\n",
    "max( ) function\n",
    "id( ) function\n",
    "idex( ) function\n",
    "len( ) function\n",
    "sum( ) function\n",
    "help( ) function\n",
    "\n",
    "\n",
    "print( ) function\n",
    "The print() function prints the specified message to the screen or another standard output device.\n",
    "\n",
    " type( ) function\n",
    "The type() function returns the type of the specified object.\n",
    "\n",
    "input( ) function\n",
    "The input() function allows taking the input from the user."
   ]
  },
  {
   "cell_type": "code",
   "execution_count": 1,
   "id": "514027ee-ca73-4bb5-9d68-22c3885df73f",
   "metadata": {},
   "outputs": [],
   "source": [
    "# what is the maxmium possible length of an identifier in python ?"
   ]
  },
  {
   "cell_type": "markdown",
   "id": "5055c3fa-5248-4117-8be3-dbc5350bebb6",
   "metadata": {},
   "source": [
    "ANS=  An identifier can have a maximum length of 79 characters in Python."
   ]
  },
  {
   "cell_type": "code",
   "execution_count": 1,
   "id": "1dd32e75-de72-41af-8e10-329901dc2f6d",
   "metadata": {},
   "outputs": [],
   "source": [
    "# WHAT ARE THE BENIFITS OF USING PYTHON ?"
   ]
  },
  {
   "cell_type": "markdown",
   "id": "0a2dfb40-f9de-49b9-9449-4dd43eea067a",
   "metadata": {},
   "source": [
    "ANS = Python is arguably one of the most widely used programming languages in the world, often battling popular high-level languages such as C, JavaScript, and Java for the number one spot. In this Python tutorial, we will look at some of the benefits of choosing Python to write code and create software in.\n",
    "\n",
    "\n",
    "There are a plethora of benefits to developing software in the Python programming language. We will highlight the major benefits below, with a brief explanation of the advantages of choosing Python for each one.\n",
    "\n",
    "Python is Extensible:-\n",
    "Python on its own is a powerful programming language, but there is always room for improvement. That being said, Python is highly extensible, meaning that you can extend Python to other languages and write C, C, C++, Java, and other programming languages within your Python codebase to add functionality or blend it with other software.\n",
    "\n",
    "Python Libraries:-\n",
    "Speaking of adding functionality to Python – one of the major benefits of choosing Python as your programming language of choice (or even adding it as a second or third language) is the large amount of libraries you can incorporate into your code. A library is basically a piece of reusable code that can be used for common functions such as manipulating images, performing equations, database administration, regular expressions, and so forth.\n",
    "\n",
    "Python Is Easy to Learn:-\n",
    "Python is incredibly easy to learn, regardless of your age or experience level. It is part of the reason I wrote a book about programming in the language for teenagers – it is a great entry into programming software as a whole. Since the language is so simple to read and write in, it also makes a great second or third language to add to your developer resume."
   ]
  },
  {
   "cell_type": "code",
   "execution_count": 2,
   "id": "ce6c81f9-d6dd-4150-964b-35aa236e0455",
   "metadata": {},
   "outputs": [],
   "source": [
    "# HOW IS MEMORY MANAGED IN PYTHON ?"
   ]
  },
  {
   "cell_type": "markdown",
   "id": "5a5db35c-9344-41c0-b8ec-62cdfbb83ed5",
   "metadata": {},
   "source": [
    "ANS =Memory management in Python involves a private heap containing all Python objects and data structures. The management of this private heap is ensured internally by the Python memory manager."
   ]
  },
  {
   "cell_type": "code",
   "execution_count": 3,
   "id": "ad381c72-3849-4dde-bf1a-8720dd2bad78",
   "metadata": {},
   "outputs": [],
   "source": [
    "#HOW TO INSTALL PYTHON ON WINDOWS AND SET PATH VARIABLES ?"
   ]
  },
  {
   "cell_type": "markdown",
   "id": "ff2f261d-bf0f-44a9-8fce-261c67846fbe",
   "metadata": {},
   "source": [
    " ANS =Method 1: Install a Recent Version of Python\n",
    "You can easily add Python to Windows path by downloading a recent version of Python, and then checking the box to Add Python to PATH at the bottom of the setup screen:\n",
    "\n",
    " Add Python to PATH\n",
    "\n",
    "Finish the installation, and you should be good to go.\n",
    "\n",
    "Alternatively, you may manually add the paths into the Environment variables.\n",
    "\n",
    "\n",
    "   Method 2: Manually add Python to Windows Path\n",
    "If you wish to stick with the previous version of Python, you may apply the steps below to manually add Python to Windows path.\n",
    "\n",
    "First, navigate to the Windows Environment Variables screen (where you can add/edit your paths):\n",
    "\n",
    "Press the Windows Key + R on your keyboard in order to open the Run dialog box\n",
    "Type sysdm.cpl to open the System Properties\n",
    "Go to the Advanced tab and then click on the ‘Environment Variables…‘\n",
    "That should take you to the Environment Variables screen, where you can add/edit your paths.\n",
    "\n",
    "Under the User variables box, click on ‘New…‘ to add the ‘Path’ variable (note that if your ‘Path’ variable already exists, then click on ‘Edit…’ instead):"
   ]
  },
  {
   "cell_type": "code",
   "execution_count": 4,
   "id": "183e6ee8-0346-45cc-b642-c6e1f1b14eac",
   "metadata": {},
   "outputs": [],
   "source": [
    "#IS IDENTATION REQUIRED IN PYTHON ?"
   ]
  },
  {
   "cell_type": "markdown",
   "id": "630c25b9-d391-4cfe-8b79-17eb307cfc6e",
   "metadata": {},
   "source": [
    "ANS = the indentation in Python is very important"
   ]
  }
 ],
 "metadata": {
  "kernelspec": {
   "display_name": "Python 3 (ipykernel)",
   "language": "python",
   "name": "python3"
  },
  "language_info": {
   "codemirror_mode": {
    "name": "ipython",
    "version": 3
   },
   "file_extension": ".py",
   "mimetype": "text/x-python",
   "name": "python",
   "nbconvert_exporter": "python",
   "pygments_lexer": "ipython3",
   "version": "3.10.8"
  }
 },
 "nbformat": 4,
 "nbformat_minor": 5
}
